{
 "cells": [
  {
   "cell_type": "markdown",
   "metadata": {},
   "source": [
    "## Day-6 Agenda:\n",
    "- intro about ML(Machine Learning)\n",
    "    - For data analysis\n",
    "      - Numpy\n",
    "      - Pandas\n",
    "      - matplotlib\n",
    "     - seaborn\n",
    "    - types of Machine Learning\n",
    "     - Supervised Learning\n",
    "      - Clasification\n",
    "        - SVM(Suport Vector Machine)\n",
    "        - Navie Bayes\n",
    "        - K nearest Naighbor(KNN)\n",
    "        - Random Forest\n",
    "      - Regression\n",
    "        - Linear Regression\n",
    "        - Polynomial Regression\n",
    "        - Logistic Regression\n",
    "        - Decision Tree\n",
    "     - Unsupervised Learning\n",
    "      - Clustering\n",
    "        - K Means\n",
    "        - k median\n",
    "        - Som\n",
    "        - Historical\n",
    "     - Reainforcement Learning\n",
    "- FrameWork - Django\n",
    "    - develop basic application \n",
    "    - project creation\n",
    "     \n",
    "- Heroku \n",
    "    - Deploying our project into sever\n",
    "     - without DB\n",
    "     - with DB(protgres sql)\n",
    "     \n",
    "     "
   ]
  },
  {
   "cell_type": "markdown",
   "metadata": {},
   "source": [
    "### T-Shirt Size Prection\n"
   ]
  },
  {
   "cell_type": "code",
   "execution_count": 30,
   "metadata": {},
   "outputs": [],
   "source": [
    "import pandas as pd\n",
    "import numpy as np\n",
    "\n"
   ]
  },
  {
   "cell_type": "code",
   "execution_count": 31,
   "metadata": {},
   "outputs": [
    {
     "name": "stdout",
     "output_type": "stream",
     "text": [
      "    height  weight size\n",
      "0      158    58.0    M\n",
      "1      158    59.0    M\n",
      "2      180   120.0  XXl\n",
      "3      158    63.0    M\n",
      "4      160    59.0    M\n",
      "5      120    23.0    S\n",
      "6      170    80.0   Xl\n",
      "7      163    60.0    M\n",
      "8      192   150.0  XXl\n",
      "9      165    62.0    L\n",
      "10     165    63.0    L\n",
      "11     168     NaN    L\n",
      "12     150    42.0    S\n",
      "13     155    48.0    S\n",
      "14     129    40.0    S\n",
      "15     180    39.0    S\n",
      "16     154   140.0  XXl\n",
      "17     180    45.0    S\n",
      "18     181    42.0    M\n"
     ]
    }
   ],
   "source": [
    "# Get the data from source file\n",
    "data=pd.read_csv('Tshirt.csv')\n",
    "print(data)"
   ]
  },
  {
   "cell_type": "code",
   "execution_count": 32,
   "metadata": {},
   "outputs": [
    {
     "name": "stdout",
     "output_type": "stream",
     "text": [
      "<class 'pandas.core.frame.DataFrame'>\n",
      "RangeIndex: 19 entries, 0 to 18\n",
      "Data columns (total 3 columns):\n",
      " #   Column  Non-Null Count  Dtype  \n",
      "---  ------  --------------  -----  \n",
      " 0   height  19 non-null     int64  \n",
      " 1   weight  18 non-null     float64\n",
      " 2   size    19 non-null     object \n",
      "dtypes: float64(1), int64(1), object(1)\n",
      "memory usage: 584.0+ bytes\n"
     ]
    }
   ],
   "source": [
    "# data preprocessing\n",
    "data.info()"
   ]
  },
  {
   "cell_type": "code",
   "execution_count": 33,
   "metadata": {},
   "outputs": [
    {
     "data": {
      "text/plain": [
       "height    0\n",
       "weight    1\n",
       "size      0\n",
       "dtype: int64"
      ]
     },
     "execution_count": 33,
     "metadata": {},
     "output_type": "execute_result"
    }
   ],
   "source": [
    "data.isnull().sum()"
   ]
  },
  {
   "cell_type": "code",
   "execution_count": 34,
   "metadata": {},
   "outputs": [
    {
     "data": {
      "text/html": [
       "<div>\n",
       "<style scoped>\n",
       "    .dataframe tbody tr th:only-of-type {\n",
       "        vertical-align: middle;\n",
       "    }\n",
       "\n",
       "    .dataframe tbody tr th {\n",
       "        vertical-align: top;\n",
       "    }\n",
       "\n",
       "    .dataframe thead th {\n",
       "        text-align: right;\n",
       "    }\n",
       "</style>\n",
       "<table border=\"1\" class=\"dataframe\">\n",
       "  <thead>\n",
       "    <tr style=\"text-align: right;\">\n",
       "      <th></th>\n",
       "      <th>height</th>\n",
       "      <th>weight</th>\n",
       "      <th>size</th>\n",
       "    </tr>\n",
       "  </thead>\n",
       "  <tbody>\n",
       "    <tr>\n",
       "      <th>0</th>\n",
       "      <td>158</td>\n",
       "      <td>58.0</td>\n",
       "      <td>M</td>\n",
       "    </tr>\n",
       "    <tr>\n",
       "      <th>1</th>\n",
       "      <td>158</td>\n",
       "      <td>59.0</td>\n",
       "      <td>M</td>\n",
       "    </tr>\n",
       "    <tr>\n",
       "      <th>2</th>\n",
       "      <td>180</td>\n",
       "      <td>120.0</td>\n",
       "      <td>XXl</td>\n",
       "    </tr>\n",
       "    <tr>\n",
       "      <th>3</th>\n",
       "      <td>158</td>\n",
       "      <td>63.0</td>\n",
       "      <td>M</td>\n",
       "    </tr>\n",
       "    <tr>\n",
       "      <th>4</th>\n",
       "      <td>160</td>\n",
       "      <td>59.0</td>\n",
       "      <td>M</td>\n",
       "    </tr>\n",
       "    <tr>\n",
       "      <th>5</th>\n",
       "      <td>120</td>\n",
       "      <td>23.0</td>\n",
       "      <td>S</td>\n",
       "    </tr>\n",
       "    <tr>\n",
       "      <th>6</th>\n",
       "      <td>170</td>\n",
       "      <td>80.0</td>\n",
       "      <td>Xl</td>\n",
       "    </tr>\n",
       "    <tr>\n",
       "      <th>7</th>\n",
       "      <td>163</td>\n",
       "      <td>60.0</td>\n",
       "      <td>M</td>\n",
       "    </tr>\n",
       "    <tr>\n",
       "      <th>8</th>\n",
       "      <td>192</td>\n",
       "      <td>150.0</td>\n",
       "      <td>XXl</td>\n",
       "    </tr>\n",
       "    <tr>\n",
       "      <th>9</th>\n",
       "      <td>165</td>\n",
       "      <td>62.0</td>\n",
       "      <td>L</td>\n",
       "    </tr>\n",
       "    <tr>\n",
       "      <th>10</th>\n",
       "      <td>165</td>\n",
       "      <td>63.0</td>\n",
       "      <td>L</td>\n",
       "    </tr>\n",
       "    <tr>\n",
       "      <th>11</th>\n",
       "      <td>168</td>\n",
       "      <td>0.0</td>\n",
       "      <td>L</td>\n",
       "    </tr>\n",
       "    <tr>\n",
       "      <th>12</th>\n",
       "      <td>150</td>\n",
       "      <td>42.0</td>\n",
       "      <td>S</td>\n",
       "    </tr>\n",
       "    <tr>\n",
       "      <th>13</th>\n",
       "      <td>155</td>\n",
       "      <td>48.0</td>\n",
       "      <td>S</td>\n",
       "    </tr>\n",
       "    <tr>\n",
       "      <th>14</th>\n",
       "      <td>129</td>\n",
       "      <td>40.0</td>\n",
       "      <td>S</td>\n",
       "    </tr>\n",
       "    <tr>\n",
       "      <th>15</th>\n",
       "      <td>180</td>\n",
       "      <td>39.0</td>\n",
       "      <td>S</td>\n",
       "    </tr>\n",
       "    <tr>\n",
       "      <th>16</th>\n",
       "      <td>154</td>\n",
       "      <td>140.0</td>\n",
       "      <td>XXl</td>\n",
       "    </tr>\n",
       "    <tr>\n",
       "      <th>17</th>\n",
       "      <td>180</td>\n",
       "      <td>45.0</td>\n",
       "      <td>S</td>\n",
       "    </tr>\n",
       "    <tr>\n",
       "      <th>18</th>\n",
       "      <td>181</td>\n",
       "      <td>42.0</td>\n",
       "      <td>M</td>\n",
       "    </tr>\n",
       "  </tbody>\n",
       "</table>\n",
       "</div>"
      ],
      "text/plain": [
       "    height  weight size\n",
       "0      158    58.0    M\n",
       "1      158    59.0    M\n",
       "2      180   120.0  XXl\n",
       "3      158    63.0    M\n",
       "4      160    59.0    M\n",
       "5      120    23.0    S\n",
       "6      170    80.0   Xl\n",
       "7      163    60.0    M\n",
       "8      192   150.0  XXl\n",
       "9      165    62.0    L\n",
       "10     165    63.0    L\n",
       "11     168     0.0    L\n",
       "12     150    42.0    S\n",
       "13     155    48.0    S\n",
       "14     129    40.0    S\n",
       "15     180    39.0    S\n",
       "16     154   140.0  XXl\n",
       "17     180    45.0    S\n",
       "18     181    42.0    M"
      ]
     },
     "execution_count": 34,
     "metadata": {},
     "output_type": "execute_result"
    }
   ],
   "source": [
    "data.fillna(0)"
   ]
  },
  {
   "cell_type": "code",
   "execution_count": 35,
   "metadata": {},
   "outputs": [
    {
     "name": "stdout",
     "output_type": "stream",
     "text": [
      "66.27777777777777\n"
     ]
    }
   ],
   "source": [
    "mean=data['weight'].mean()\n",
    "print(mean)\n",
    "#data.fillna(0)"
   ]
  },
  {
   "cell_type": "code",
   "execution_count": 36,
   "metadata": {},
   "outputs": [
    {
     "name": "stdout",
     "output_type": "stream",
     "text": [
      "66.27777777777777\n"
     ]
    },
    {
     "data": {
      "text/html": [
       "<div>\n",
       "<style scoped>\n",
       "    .dataframe tbody tr th:only-of-type {\n",
       "        vertical-align: middle;\n",
       "    }\n",
       "\n",
       "    .dataframe tbody tr th {\n",
       "        vertical-align: top;\n",
       "    }\n",
       "\n",
       "    .dataframe thead th {\n",
       "        text-align: right;\n",
       "    }\n",
       "</style>\n",
       "<table border=\"1\" class=\"dataframe\">\n",
       "  <thead>\n",
       "    <tr style=\"text-align: right;\">\n",
       "      <th></th>\n",
       "      <th>height</th>\n",
       "      <th>weight</th>\n",
       "      <th>size</th>\n",
       "    </tr>\n",
       "  </thead>\n",
       "  <tbody>\n",
       "    <tr>\n",
       "      <th>0</th>\n",
       "      <td>158</td>\n",
       "      <td>58.000000</td>\n",
       "      <td>M</td>\n",
       "    </tr>\n",
       "    <tr>\n",
       "      <th>1</th>\n",
       "      <td>158</td>\n",
       "      <td>59.000000</td>\n",
       "      <td>M</td>\n",
       "    </tr>\n",
       "    <tr>\n",
       "      <th>2</th>\n",
       "      <td>180</td>\n",
       "      <td>120.000000</td>\n",
       "      <td>XXl</td>\n",
       "    </tr>\n",
       "    <tr>\n",
       "      <th>3</th>\n",
       "      <td>158</td>\n",
       "      <td>63.000000</td>\n",
       "      <td>M</td>\n",
       "    </tr>\n",
       "    <tr>\n",
       "      <th>4</th>\n",
       "      <td>160</td>\n",
       "      <td>59.000000</td>\n",
       "      <td>M</td>\n",
       "    </tr>\n",
       "    <tr>\n",
       "      <th>5</th>\n",
       "      <td>120</td>\n",
       "      <td>23.000000</td>\n",
       "      <td>S</td>\n",
       "    </tr>\n",
       "    <tr>\n",
       "      <th>6</th>\n",
       "      <td>170</td>\n",
       "      <td>80.000000</td>\n",
       "      <td>Xl</td>\n",
       "    </tr>\n",
       "    <tr>\n",
       "      <th>7</th>\n",
       "      <td>163</td>\n",
       "      <td>60.000000</td>\n",
       "      <td>M</td>\n",
       "    </tr>\n",
       "    <tr>\n",
       "      <th>8</th>\n",
       "      <td>192</td>\n",
       "      <td>150.000000</td>\n",
       "      <td>XXl</td>\n",
       "    </tr>\n",
       "    <tr>\n",
       "      <th>9</th>\n",
       "      <td>165</td>\n",
       "      <td>62.000000</td>\n",
       "      <td>L</td>\n",
       "    </tr>\n",
       "    <tr>\n",
       "      <th>10</th>\n",
       "      <td>165</td>\n",
       "      <td>63.000000</td>\n",
       "      <td>L</td>\n",
       "    </tr>\n",
       "    <tr>\n",
       "      <th>11</th>\n",
       "      <td>168</td>\n",
       "      <td>66.277778</td>\n",
       "      <td>L</td>\n",
       "    </tr>\n",
       "    <tr>\n",
       "      <th>12</th>\n",
       "      <td>150</td>\n",
       "      <td>42.000000</td>\n",
       "      <td>S</td>\n",
       "    </tr>\n",
       "    <tr>\n",
       "      <th>13</th>\n",
       "      <td>155</td>\n",
       "      <td>48.000000</td>\n",
       "      <td>S</td>\n",
       "    </tr>\n",
       "    <tr>\n",
       "      <th>14</th>\n",
       "      <td>129</td>\n",
       "      <td>40.000000</td>\n",
       "      <td>S</td>\n",
       "    </tr>\n",
       "    <tr>\n",
       "      <th>15</th>\n",
       "      <td>180</td>\n",
       "      <td>39.000000</td>\n",
       "      <td>S</td>\n",
       "    </tr>\n",
       "    <tr>\n",
       "      <th>16</th>\n",
       "      <td>154</td>\n",
       "      <td>140.000000</td>\n",
       "      <td>XXl</td>\n",
       "    </tr>\n",
       "    <tr>\n",
       "      <th>17</th>\n",
       "      <td>180</td>\n",
       "      <td>45.000000</td>\n",
       "      <td>S</td>\n",
       "    </tr>\n",
       "    <tr>\n",
       "      <th>18</th>\n",
       "      <td>181</td>\n",
       "      <td>42.000000</td>\n",
       "      <td>M</td>\n",
       "    </tr>\n",
       "  </tbody>\n",
       "</table>\n",
       "</div>"
      ],
      "text/plain": [
       "    height      weight size\n",
       "0      158   58.000000    M\n",
       "1      158   59.000000    M\n",
       "2      180  120.000000  XXl\n",
       "3      158   63.000000    M\n",
       "4      160   59.000000    M\n",
       "5      120   23.000000    S\n",
       "6      170   80.000000   Xl\n",
       "7      163   60.000000    M\n",
       "8      192  150.000000  XXl\n",
       "9      165   62.000000    L\n",
       "10     165   63.000000    L\n",
       "11     168   66.277778    L\n",
       "12     150   42.000000    S\n",
       "13     155   48.000000    S\n",
       "14     129   40.000000    S\n",
       "15     180   39.000000    S\n",
       "16     154  140.000000  XXl\n",
       "17     180   45.000000    S\n",
       "18     181   42.000000    M"
      ]
     },
     "execution_count": 36,
     "metadata": {},
     "output_type": "execute_result"
    }
   ],
   "source": [
    "# Huge no of null values\n",
    "mean=data['weight'].mean()\n",
    "print(mean)\n",
    "data.fillna(mean)"
   ]
  },
  {
   "cell_type": "code",
   "execution_count": 37,
   "metadata": {},
   "outputs": [
    {
     "name": "stdout",
     "output_type": "stream",
     "text": [
      "    height  weight size\n",
      "0      158    58.0    M\n",
      "1      158    59.0    M\n",
      "2      180   120.0  XXl\n",
      "3      158    63.0    M\n",
      "4      160    59.0    M\n",
      "5      120    23.0    S\n",
      "6      170    80.0   Xl\n",
      "7      163    60.0    M\n",
      "8      192   150.0  XXl\n",
      "9      165    62.0    L\n",
      "10     165    63.0    L\n",
      "12     150    42.0    S\n",
      "13     155    48.0    S\n",
      "14     129    40.0    S\n",
      "15     180    39.0    S\n",
      "16     154   140.0  XXl\n",
      "17     180    45.0    S\n",
      "18     181    42.0    M\n"
     ]
    }
   ],
   "source": [
    "# Less Null Values in the database\n",
    "data=data.dropna()\n",
    "print(data)"
   ]
  },
  {
   "cell_type": "code",
   "execution_count": 38,
   "metadata": {},
   "outputs": [
    {
     "name": "stdout",
     "output_type": "stream",
     "text": [
      "    weight  height\n",
      "0     58.0     158\n",
      "1     59.0     158\n",
      "2    120.0     180\n",
      "3     63.0     158\n",
      "4     59.0     160\n",
      "5     23.0     120\n",
      "6     80.0     170\n",
      "7     60.0     163\n",
      "8    150.0     192\n",
      "9     62.0     165\n",
      "10    63.0     165\n",
      "12    42.0     150\n",
      "13    48.0     155\n",
      "14    40.0     129\n",
      "15    39.0     180\n",
      "16   140.0     154\n",
      "17    45.0     180\n",
      "18    42.0     181\n"
     ]
    }
   ],
   "source": [
    "# x=Input values(Features),independent\n",
    "# y=Output values(Target)/dependent\n",
    "x=data[['weight','height']]\n",
    "print(x)"
   ]
  },
  {
   "cell_type": "code",
   "execution_count": 39,
   "metadata": {},
   "outputs": [
    {
     "name": "stdout",
     "output_type": "stream",
     "text": [
      "0       M\n",
      "1       M\n",
      "2     XXl\n",
      "3       M\n",
      "4       M\n",
      "5       S\n",
      "6      Xl\n",
      "7       M\n",
      "8     XXl\n",
      "9       L\n",
      "10      L\n",
      "12      S\n",
      "13      S\n",
      "14      S\n",
      "15      S\n",
      "16    XXl\n",
      "17      S\n",
      "18      M\n",
      "Name: size, dtype: object\n"
     ]
    }
   ],
   "source": [
    "# x=data[['weight','height']]\n",
    "y=data['size']\n",
    "print(y)"
   ]
  },
  {
   "cell_type": "code",
   "execution_count": 40,
   "metadata": {},
   "outputs": [
    {
     "name": "stdout",
     "output_type": "stream",
     "text": [
      "[1 1 3 1 1 2 4 1 3 0 0 2 2 2 2 3 2 1]\n"
     ]
    }
   ],
   "source": [
    "x=data[['weight','height']]\n",
    "y=data['size']\n",
    "from sklearn.preprocessing import LabelEncoder\n",
    "y_label=LabelEncoder()\n",
    "Y=y_label.fit_transform(y)\n",
    "print(Y)"
   ]
  },
  {
   "cell_type": "code",
   "execution_count": 41,
   "metadata": {},
   "outputs": [],
   "source": [
    "x=data[['weight','height']]\n",
    "y=data['size']\n",
    "from sklearn.preprocessing import LabelEncoder\n",
    "y_label=LabelEncoder()\n"
   ]
  },
  {
   "cell_type": "code",
   "execution_count": 42,
   "metadata": {
    "scrolled": true
   },
   "outputs": [
    {
     "name": "stdout",
     "output_type": "stream",
     "text": [
      "    weight  height\n",
      "6     80.0     170\n",
      "7     60.0     163\n",
      "13    48.0     155\n",
      "9     62.0     165\n",
      "18    42.0     181\n",
      "17    45.0     180\n",
      "5     23.0     120\n",
      "0     58.0     158\n",
      "16   140.0     154\n",
      "8    150.0     192\n",
      "3     63.0     158\n",
      "10    63.0     165\n"
     ]
    }
   ],
   "source": [
    "# Modelling\n",
    "from sklearn.model_selection import train_test_split\n",
    "from sklearn.neighbors import KNeighborsClassifier\n",
    "x_train,x_test,y_train,y_test=train_test_split(x,Y,test_size=0.3,random_state=3)\n",
    "print(x_train)"
   ]
  },
  {
   "cell_type": "code",
   "execution_count": 43,
   "metadata": {},
   "outputs": [
    {
     "name": "stdout",
     "output_type": "stream",
     "text": [
      "    weight  height\n",
      "12    42.0     150\n",
      "2    120.0     180\n",
      "1     59.0     158\n",
      "15    39.0     180\n",
      "4     59.0     160\n",
      "14    40.0     129\n"
     ]
    }
   ],
   "source": [
    "from sklearn.model_selection import train_test_split\n",
    "from sklearn.neighbors import KNeighborsClassifier\n",
    "x_train,x_test,y_train,y_test=train_test_split(x,Y,test_size=0.3,random_state=3)\n",
    "print(x_test)"
   ]
  },
  {
   "cell_type": "code",
   "execution_count": 44,
   "metadata": {},
   "outputs": [],
   "source": [
    "# importing algorithm and apply to them\n",
    "from sklearn.neighbors import KNeighborsClassifier \n"
   ]
  },
  {
   "cell_type": "code",
   "execution_count": 45,
   "metadata": {},
   "outputs": [
    {
     "name": "stdout",
     "output_type": "stream",
     "text": [
      "[1 0 1 1 1 1]\n"
     ]
    }
   ],
   "source": [
    "knn=KNeighborsClassifier(n_neighbors=5)\n",
    "knn.fit(x_train,y_train)\n",
    "print(knn.predict(x_test))\n"
   ]
  },
  {
   "cell_type": "code",
   "execution_count": 46,
   "metadata": {},
   "outputs": [
    {
     "name": "stdout",
     "output_type": "stream",
     "text": [
      "    weight  height\n",
      "12    42.0     150\n",
      "2    120.0     180\n",
      "1     59.0     158\n",
      "15    39.0     180\n",
      "4     59.0     160\n",
      "14    40.0     129\n"
     ]
    }
   ],
   "source": [
    "print(x_test)"
   ]
  },
  {
   "cell_type": "code",
   "execution_count": 47,
   "metadata": {},
   "outputs": [
    {
     "data": {
      "text/plain": [
       "array([1])"
      ]
     },
     "execution_count": 47,
     "metadata": {},
     "output_type": "execute_result"
    }
   ],
   "source": [
    "knn.predict([[48,155]])"
   ]
  },
  {
   "cell_type": "code",
   "execution_count": 48,
   "metadata": {},
   "outputs": [
    {
     "data": {
      "text/plain": [
       "array([0])"
      ]
     },
     "execution_count": 48,
     "metadata": {},
     "output_type": "execute_result"
    }
   ],
   "source": [
    "knn.predict([[120,180]])"
   ]
  },
  {
   "cell_type": "code",
   "execution_count": 49,
   "metadata": {},
   "outputs": [
    {
     "name": "stdout",
     "output_type": "stream",
     "text": [
      "33.33333333333333\n"
     ]
    }
   ],
   "source": [
    "from sklearn.metrics import accuracy_score\n",
    "print(accuracy_score(y_test,knn.predict(x_test))*100)"
   ]
  },
  {
   "cell_type": "code",
   "execution_count": null,
   "metadata": {},
   "outputs": [],
   "source": []
  }
 ],
 "metadata": {
  "kernelspec": {
   "display_name": "Python 3",
   "language": "python",
   "name": "python3"
  },
  "language_info": {
   "codemirror_mode": {
    "name": "ipython",
    "version": 3
   },
   "file_extension": ".py",
   "mimetype": "text/x-python",
   "name": "python",
   "nbconvert_exporter": "python",
   "pygments_lexer": "ipython3",
   "version": "3.8.5"
  }
 },
 "nbformat": 4,
 "nbformat_minor": 4
}
