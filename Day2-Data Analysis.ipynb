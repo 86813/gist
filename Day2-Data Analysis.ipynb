{
 "cells": [
  {
   "cell_type": "markdown",
   "metadata": {},
   "source": [
    "# md-file"
   ]
  },
  {
   "cell_type": "markdown",
   "metadata": {},
   "source": [
    "# Title\n",
    "## Sub title\n",
    "### Heading\n",
    "#### Sub heading "
   ]
  },
  {
   "cell_type": "markdown",
   "metadata": {},
   "source": [
    "- outdoor games \n",
    "1. cricket\n",
    "2. football \n",
    "3. hocky\n",
    "- indoor games \n",
    "1. ludo\n",
    "2. snake and ladder\n",
    "3. chess"
   ]
  },
  {
   "cell_type": "markdown",
   "metadata": {},
   "source": [
    "***\n",
    "1. git \n",
    "2. python \n",
    "3. numpy \n",
    "4. matplot lib\n",
    "5. pandas\n",
    "6. seabron\n",
    "***"
   ]
  },
  {
   "cell_type": "markdown",
   "metadata": {},
   "source": [
    "- ![image](https://cdn.pixabay.com/photo/2015/04/19/08/33/flower-729512__340.jpg)"
   ]
  },
  {
   "cell_type": "markdown",
   "metadata": {},
   "source": [
    "#### how to highlighted perticular lines markdown\n",
    "```python\n",
    "a=int(input('enter a number'))\n",
    "if a%2==0:\n",
    "print(a,'is even number')\n",
    "else:\n",
    "print(a,'is odd number')\n",
    "```"
   ]
  },
  {
   "cell_type": "markdown",
   "metadata": {},
   "source": [
    "###\n",
    "`\n",
    "a=int(input('enter a number'))\n",
    "if a%2==0:\n",
    "print(a,'is even number')\n",
    "else:\n",
    "print(a,'is odd number')\n",
    "`"
   ]
  },
  {
   "cell_type": "markdown",
   "metadata": {},
   "source": [
    "#### text will be convert italic and bold using markdown\n",
    "- this is normal text\n",
    "- *this is a italic text*\n",
    "- **this is a bold text**"
   ]
  },
  {
   "cell_type": "markdown",
   "metadata": {},
   "source": [
    "#### how to add hyper links using markdown\n",
    "[GOOGLE](https://www.google.com)\n",
    "\n",
    "[FACEBOOK](https://www.facebook.com)\n",
    "\n",
    "[APSSDC](https://www.apssdc.com)"
   ]
  },
  {
   "cell_type": "code",
   "execution_count": null,
   "metadata": {},
   "outputs": [],
   "source": [
    "- ![image]()"
   ]
  }
 ],
 "metadata": {
  "kernelspec": {
   "display_name": "Python 3",
   "language": "python",
   "name": "python3"
  },
  "language_info": {
   "codemirror_mode": {
    "name": "ipython",
    "version": 3
   },
   "file_extension": ".py",
   "mimetype": "text/x-python",
   "name": "python",
   "nbconvert_exporter": "python",
   "pygments_lexer": "ipython3",
   "version": "3.8.5"
  }
 },
 "nbformat": 4,
 "nbformat_minor": 4
}
